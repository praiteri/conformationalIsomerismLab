{
 "cells": [
  {
   "cell_type": "code",
   "execution_count": null,
   "metadata": {},
   "outputs": [],
   "source": [
    "import MDAnalysis as mda\n",
    "from MDAnalysis.analysis.dihedrals import Dihedral\n",
    "import numpy as np\n",
    "import matplotlib.pyplot as plt\n",
    "import matplotlib.ticker as tck\n"
   ]
  },
  {
   "cell_type": "code",
   "execution_count": null,
   "metadata": {},
   "outputs": [],
   "source": [
    "#axis\n",
    "fontsize=28\n",
    "figureParameters = {'figure.figsize' : (12,8),\n",
    "                    'legend.fontsize': fontsize*0.7,\n",
    "                    'axes.labelsize' : fontsize,\n",
    "                    'axes.titlesize' : fontsize,\n",
    "                    'xtick.labelsize': fontsize*0.8,\n",
    "                    'ytick.labelsize': fontsize*0.8,\n",
    "                    'xtick.direction': \"in\", # tick marks inside the frame\n",
    "                    'ytick.direction': \"in\", # tick marks inside the frame\n",
    "                    'axes.linewidth' : 3,\n",
    "                    'axes.titlepad'  : 25}\n",
    "\n",
    "\n",
    "def prettyTicks(ax):\n",
    "    # Add tick marks on all sides of the figure\n",
    "    ax.xaxis.set_ticks_position('both')\n",
    "    ax.yaxis.set_ticks_position('both')\n",
    "\n",
    "    #ax.xaxis.set_major_locator(tck.MultipleLocator(2))\n",
    "    #ax.yaxis.set_major_locator(tck.MultipleLocator(0.01))\n",
    "    \n",
    "    ax.yaxis.set_minor_locator(tck.AutoMinorLocator())\n",
    "    ax.xaxis.set_minor_locator(tck.AutoMinorLocator())\n",
    "\n",
    "    ax.tick_params(which='minor', length=6, width=2, color='black')\n",
    "    ax.tick_params(which='major', length=12, width=2, color='black')"
   ]
  },
  {
   "cell_type": "code",
   "execution_count": null,
   "metadata": {},
   "outputs": [],
   "source": [
    "# import the topology and trajectory files \n",
    "u = mda.Universe('DBE_298_EQ_BOX.pdb','trajectory.0.dcd')\n"
   ]
  },
  {
   "cell_type": "code",
   "execution_count": null,
   "metadata": {},
   "outputs": [],
   "source": [
    "# get objects for the atoms in each residue\n",
    "res = u.select_atoms('resname M1').groupby('resids')\n",
    "\n",
    "# get atoms in residues for calculating the dihedral\n",
    "# 1,0,4,2 correspond to Br-Cb-Cb-Br\n",
    "ags = [value.atoms[[1,0,4,2]] for key, value in res.items()]\n",
    "\n",
    "def getDihedrals(ags,start,nbins):\n",
    "    # calc dihedrals over whole trajectory\n",
    "    R = Dihedral(ags).run(start=start)\n",
    "\n",
    "    # convert dihedral angle from degrees to radians for 0 - 2pi\n",
    "    dhds = R.results.angles.flatten()\n",
    "    dhds = (dhds * np.pi/180)\n",
    "    dhds[dhds < 0] += 2*np.pi\n",
    "\n",
    "    # create histogram\n",
    "    #nbins = 400\n",
    "    hist, bins = np.histogram(dhds,bins=nbins)\n",
    "    bw = bins[1] - bins[0]\n",
    "    area = bw * np.sum(hist)\n",
    "    hist = hist/area\n",
    "    bin_centers = 0.5*(bins[1:]+bins[:-1])\n",
    "    return hist,bins,bin_centers, bw"
   ]
  },
  {
   "cell_type": "code",
   "execution_count": null,
   "metadata": {},
   "outputs": [],
   "source": [
    "nbins = 400\n",
    "hist, bins, bin_centers, bw = getDihedrals(ags,0,nbins)"
   ]
  },
  {
   "cell_type": "code",
   "execution_count": null,
   "metadata": {},
   "outputs": [],
   "source": [
    "# PLOTTING\n",
    "plt.rcParams.update(figureParameters)\n",
    "fig = plt.figure()\n",
    "ax = fig.gca()\n",
    "\n",
    "# plot histogram\n",
    "#ax.bar(bins[:-1],hist,width=0.02)\n",
    "\n",
    "# plot line graph \n",
    "ax.plot(bin_centers,hist,color='black',linewidth=2)\n",
    "ax.set(xlabel='Dihedral angle',ylabel='Probability')\n",
    "\n",
    "prettyTicks(ax)\n",
    "\n",
    "plt.savefig(\"probability.jpg\")\n",
    "plt.show()"
   ]
  },
  {
   "cell_type": "code",
   "execution_count": null,
   "metadata": {},
   "outputs": [],
   "source": [
    "# get probabilities of trans and gauche conformations\n",
    "peak1 = 1.3\n",
    "peak2 = 3.2\n",
    "peak3 = 5.0\n",
    "upp = 2*np.pi\n",
    "\n",
    "p1 = int(peak1/upp * nbins)\n",
    "p2 = int(peak2/upp * nbins)\n",
    "p3 = int(peak3/upp * nbins)\n",
    "\n",
    "min1 = p1+np.argmin(hist[p1:p2])\n",
    "min2 = p2+np.argmin(hist[p2:p3])\n",
    "\n",
    "#integrate from min1 - min2\n",
    "ptrans = bw * np.sum(hist[min1:min2])\n",
    "pgauche = 1 - ptrans\n",
    "print(\"P(trans)  = {ptrans}%\\nP(gauche) = {pgauche}%\".format(ptrans=round(ptrans*100,2),pgauche=round(pgauche*100,2)))"
   ]
  },
  {
   "cell_type": "code",
   "execution_count": null,
   "metadata": {},
   "outputs": [],
   "source": [
    "temp = 298\n",
    "dG = -1*(8.314/1000)*temp*np.log(ptrans/pgauche)\n",
    "print('Free energy: {} kJ/mol'.format(round(dG,2)))"
   ]
  },
  {
   "cell_type": "code",
   "execution_count": null,
   "metadata": {},
   "outputs": [],
   "source": []
  }
 ],
 "metadata": {
  "interpreter": {
   "hash": "e535d220b488de5ea91b9cc2b59c2f114a95afd4d79a4d51c41214c2f625fe35"
  },
  "kernelspec": {
   "display_name": "Python 3 (ipykernel)",
   "language": "python",
   "name": "python3"
  },
  "language_info": {
   "codemirror_mode": {
    "name": "ipython",
    "version": 3
   },
   "file_extension": ".py",
   "mimetype": "text/x-python",
   "name": "python",
   "nbconvert_exporter": "python",
   "pygments_lexer": "ipython3",
   "version": "3.9.12"
  }
 },
 "nbformat": 4,
 "nbformat_minor": 2
}
